{
 "cells": [
  {
   "cell_type": "code",
   "execution_count": null,
   "id": "aadaa470-6250-47b7-9095-7eb87a76c988",
   "metadata": {
    "tags": []
   },
   "outputs": [
    {
     "name": "stdout",
     "output_type": "stream",
     "text": [
      "Password Complexity Checker\n"
     ]
    }
   ],
   "source": [
    "import re\n",
    "\n",
    "def check_password_complexity(password):\n",
    "    # Define criteria for password strength\n",
    "    length_criteria = len(password) >= 8\n",
    "    uppercase_criteria = bool(re.search(r'[A-Z]', password))\n",
    "    lowercase_criteria = bool(re.search(r'[a-z]', password))\n",
    "    digit_criteria = bool(re.search(r'\\d', password))\n",
    "    special_char_criteria = bool(re.search(r'[!@#$%^&*(),.?\":{}|<>]', password))\n",
    "\n",
    "    # Assess the strength of the password based on criteria\n",
    "    if length_criteria and uppercase_criteria and lowercase_criteria and digit_criteria and special_char_criteria:\n",
    "        return \"Strong password! 👍\"\n",
    "    else:\n",
    "        feedback = \"Weak password. Consider the following improvements:\\n\"\n",
    "        if not length_criteria:\n",
    "            feedback += \"- Ensure the password is at least 8 characters long\\n\"\n",
    "        if not uppercase_criteria:\n",
    "            feedback += \"- Include at least one uppercase letter\\n\"\n",
    "        if not lowercase_criteria:\n",
    "            feedback += \"- Include at least one lowercase letter\\n\"\n",
    "        if not digit_criteria:\n",
    "            feedback += \"- Include at least one digit\\n\"\n",
    "        if not special_char_criteria:\n",
    "            feedback += \"- Include at least one special character (!@#$%^&*(),.?\\\":{}|<>)\\n\"\n",
    "\n",
    "        return feedback\n",
    "\n",
    "def main():\n",
    "    print(\"Password Complexity Checker\")\n",
    "\n",
    "    # Get user input for the password\n",
    "    password = input(\"Enter your password: \")\n",
    "\n",
    "    # Check and provide feedback on the password complexity\n",
    "    result = check_password_complexity(password)\n",
    "    print(result)\n",
    "\n",
    "if __name__ == \"__main__\":\n",
    "    main()"
   ]
  },
  {
   "cell_type": "code",
   "execution_count": null,
   "id": "4c537f95-17a1-494e-adeb-f345d11fad28",
   "metadata": {},
   "outputs": [],
   "source": []
  }
 ],
 "metadata": {
  "kernelspec": {
   "display_name": "Python 3 (ipykernel)",
   "language": "python",
   "name": "python3"
  },
  "language_info": {
   "codemirror_mode": {
    "name": "ipython",
    "version": 3
   },
   "file_extension": ".py",
   "mimetype": "text/x-python",
   "name": "python",
   "nbconvert_exporter": "python",
   "pygments_lexer": "ipython3",
   "version": "3.11.7"
  }
 },
 "nbformat": 4,
 "nbformat_minor": 5
}
